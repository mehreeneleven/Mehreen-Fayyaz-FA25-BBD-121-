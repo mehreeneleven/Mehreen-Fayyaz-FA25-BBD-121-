{
 "cells": [
  {
   "cell_type": "markdown",
   "id": "8112ecd6-a235-495f-8ceb-aa7146682b15",
   "metadata": {},
   "source": [
    "## Muhammad Ammar Ijaz(FA25-BBD-013)\n",
    "## Lab Exercise Questions (Tuple)\n",
    "### Task 1: Basic Creation and Access"
   ]
  },
  {
   "cell_type": "code",
   "execution_count": 2,
   "id": "a558b7a3-6942-4c93-9167-d79d7ce86494",
   "metadata": {},
   "outputs": [
    {
     "name": "stdout",
     "output_type": "stream",
     "text": [
      "('Ammar', 18, 1.5)\n",
      "18\n"
     ]
    }
   ],
   "source": [
    "my_info=('Ammar',18,1.5)\n",
    "print(my_info)\n",
    "print(my_info[1])"
   ]
  },
  {
   "cell_type": "markdown",
   "id": "f07a5fba-fc0d-49d7-9239-06d13e9c6bd7",
   "metadata": {},
   "source": [
    "### Task 2: Single-Item Tuple"
   ]
  },
  {
   "cell_type": "code",
   "execution_count": 3,
   "id": "6053b2f6-0635-452b-868a-a76a20e5c6c3",
   "metadata": {},
   "outputs": [
    {
     "name": "stdout",
     "output_type": "stream",
     "text": [
      "<class 'tuple'>\n"
     ]
    }
   ],
   "source": [
    "single_day=('Monday',)\n",
    "print(type(single_day))"
   ]
  },
  {
   "cell_type": "markdown",
   "id": "0878b62b-f3ab-44c9-89fe-c87da0ed0726",
   "metadata": {},
   "source": [
    "### Task 3: Negative Indexing"
   ]
  },
  {
   "cell_type": "code",
   "execution_count": 4,
   "id": "78d3b519-6d15-4956-abda-ea6851856a7c",
   "metadata": {},
   "outputs": [
    {
     "name": "stdout",
     "output_type": "stream",
     "text": [
      "Jupiter\n",
      "Earth\n"
     ]
    }
   ],
   "source": [
    "planets_tuple=('Mercury','Venus','Earth','Mars','Jupiter')\n",
    "print(planets_tuple[-1])\n",
    "print(planets_tuple[-3])"
   ]
  },
  {
   "cell_type": "markdown",
   "id": "4476e37e-7430-4847-9510-50e5cb5a4880",
   "metadata": {},
   "source": [
    "### Task 4: Tuple Concatenation"
   ]
  },
  {
   "cell_type": "code",
   "execution_count": 5,
   "id": "2515fbbb-8471-46fb-970e-8ad8268c9244",
   "metadata": {},
   "outputs": [
    {
     "name": "stdout",
     "output_type": "stream",
     "text": [
      "(1, 2, 3, 4, 5, 6)\n"
     ]
    }
   ],
   "source": [
    "front_numbers=(1,2,3)\n",
    "back_numbers=(4,5,6)\n",
    "combined_numbers=(front_numbers+back_numbers)\n",
    "print(combined_numbers)"
   ]
  },
  {
   "cell_type": "markdown",
   "id": "bd46d475-9af6-4525-a578-e0ce6a8f57b6",
   "metadata": {},
   "source": [
    "### Task 5: Tuple Repetition"
   ]
  },
  {
   "cell_type": "code",
   "execution_count": 8,
   "id": "17bf944c-d6f9-4114-b880-7585d4b2225a",
   "metadata": {},
   "outputs": [
    {
     "name": "stdout",
     "output_type": "stream",
     "text": [
      "⭐⭐⭐\n"
     ]
    }
   ],
   "source": [
    "icon=('⭐')\n",
    "ratings=(icon*3)\n",
    "print(ratings)"
   ]
  },
  {
   "cell_type": "markdown",
   "id": "347c603e-e4b4-4e59-bcde-055247c8c8e4",
   "metadata": {},
   "source": [
    "### Task 6: The Immutability Test\n",
    "##### Once a tuple is created, you cannot modify its elements. This immutability provides a sense of data security, especially when the data should not change throughout the program."
   ]
  },
  {
   "cell_type": "code",
   "execution_count": 12,
   "id": "8a9db0f4-c889-495e-9ef3-bced7f259b91",
   "metadata": {},
   "outputs": [
    {
     "ename": "TypeError",
     "evalue": "'tuple' object does not support item assignment",
     "output_type": "error",
     "traceback": [
      "\u001b[1;31m---------------------------------------------------------------------------\u001b[0m",
      "\u001b[1;31mTypeError\u001b[0m                                 Traceback (most recent call last)",
      "Cell \u001b[1;32mIn[12], line 2\u001b[0m\n\u001b[0;32m      1\u001b[0m status\u001b[38;5;241m=\u001b[39m(\u001b[38;5;124m'\u001b[39m\u001b[38;5;124mpending\u001b[39m\u001b[38;5;124m'\u001b[39m,\u001b[38;5;124m'\u001b[39m\u001b[38;5;124mprocessing\u001b[39m\u001b[38;5;124m'\u001b[39m,\u001b[38;5;124m'\u001b[39m\u001b[38;5;124mcompleted\u001b[39m\u001b[38;5;124m'\u001b[39m)\n\u001b[1;32m----> 2\u001b[0m status[\u001b[38;5;241m0\u001b[39m]\u001b[38;5;241m=\u001b[39m\u001b[38;5;124m'\u001b[39m\u001b[38;5;124mfailed\u001b[39m\u001b[38;5;124m'\u001b[39m\n\u001b[0;32m      3\u001b[0m \u001b[38;5;28mprint\u001b[39m(status)\n",
      "\u001b[1;31mTypeError\u001b[0m: 'tuple' object does not support item assignment"
     ]
    }
   ],
   "source": [
    "status=('pending','processing','completed')\n",
    "status[0]='failed'\n",
    "print(status)"
   ]
  },
  {
   "cell_type": "markdown",
   "id": "f59cf178-8203-4ade-bf98-449455e67509",
   "metadata": {},
   "source": [
    "### Task 7: Tuple Slicing"
   ]
  },
  {
   "cell_type": "code",
   "execution_count": 18,
   "id": "ed267014-7ea9-4453-89c6-7269785b5c8e",
   "metadata": {},
   "outputs": [
    {
     "name": "stdout",
     "output_type": "stream",
     "text": [
      "(30, 40, 50)\n",
      "(10, 20, 30, 40, 60, 70)\n"
     ]
    }
   ],
   "source": [
    "Data=(10,20,30,40,50,60,70)\n",
    "print(Data[2:5])\n",
    "result=Data[0:4] + Data[5:7]\n",
    "print(result)"
   ]
  },
  {
   "cell_type": "markdown",
   "id": "f0f5cb9a-d2e0-46f1-afe9-22b714307a36",
   "metadata": {},
   "source": [
    "### Task 8: Counting Elements"
   ]
  },
  {
   "cell_type": "code",
   "execution_count": 19,
   "id": "c3de5fbb-0f57-455d-8b56-bee465a23ae0",
   "metadata": {},
   "outputs": [
    {
     "name": "stdout",
     "output_type": "stream",
     "text": [
      "4\n",
      "4\n"
     ]
    }
   ],
   "source": [
    "results=('pass','fail','pass','pass','defer','pass')\n",
    "print(results.count('pass'))\n",
    "print(results.index('defer'))"
   ]
  }
 ],
 "metadata": {
  "kernelspec": {
   "display_name": "Python [conda env:base] *",
   "language": "python",
   "name": "conda-base-py"
  },
  "language_info": {
   "codemirror_mode": {
    "name": "ipython",
    "version": 3
   },
   "file_extension": ".py",
   "mimetype": "text/x-python",
   "name": "python",
   "nbconvert_exporter": "python",
   "pygments_lexer": "ipython3",
   "version": "3.13.5"
  }
 },
 "nbformat": 4,
 "nbformat_minor": 5
}
